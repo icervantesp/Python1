{
 "cells": [
  {
   "cell_type": "code",
   "execution_count": null,
   "metadata": {},
   "outputs": [],
   "source": [
    "import pandas as pd\n",
    "\n",
    "file_path = './data_retail'"
   ]
  },
  {
   "cell_type": "code",
   "execution_count": null,
   "metadata": {},
   "outputs": [],
   "source": [
    "# Leer archivo csv \n",
    "df_customer = pd.read_csv(f'{file_path}/csv/customers.csv')\n",
    "df_customer.head()"
   ]
  },
  {
   "cell_type": "code",
   "execution_count": null,
   "metadata": {},
   "outputs": [],
   "source": [
    "# Leer archivo sin cabeceras y con separador\n",
    "df_customer = pd.read_csv(f'{file_path}/customers', sep='|', header=None, names=[\"customer_id\",\"customer_fname\",\"customer_lname\",\"customer_email\",\"customer_password\",\"customer_street\",\"customer_city\",\"customer_state\",\"customer_zipcode\"])\n",
    "df_customer.head()"
   ]
  },
  {
   "cell_type": "code",
   "execution_count": null,
   "metadata": {},
   "outputs": [],
   "source": [
    "# Leer archivo json\n",
    "df_customer = pd.read_json(f'{file_path}/json/customers.json', lines=True)\n",
    "df_customer.head()"
   ]
  },
  {
   "cell_type": "code",
   "execution_count": null,
   "metadata": {},
   "outputs": [],
   "source": [
    "import pandas as pd\n",
    "\n",
    "# ------------------------------\n",
    "# 1. Carga de Datos\n",
    "# ------------------------------\n",
    "\n",
    "# Cargar datos desde archivos CSV o JSON (simulados como ejemplo)\n",
    "customers = pd.read_csv(f\"{file_path}/csv/customers.csv\")\n",
    "departments = pd.read_csv(f\"{file_path}/csv/departments.csv\")\n",
    "categories = pd.read_csv(f\"{file_path}/csv/categories.csv\")\n",
    "products = pd.read_csv(f\"{file_path}/csv/products.csv\")\n",
    "orders = pd.read_csv(f\"{file_path}/csv/orders.csv\")\n",
    "order_items = pd.read_csv(f\"{file_path}/csv/order_items.csv\")"
   ]
  },
  {
   "cell_type": "code",
   "execution_count": null,
   "metadata": {},
   "outputs": [],
   "source": [
    "# ------------------------------\n",
    "# 2. Exploración Inicial\n",
    "# ------------------------------\n",
    "\n",
    "customers.head()\n"
   ]
  },
  {
   "cell_type": "code",
   "execution_count": null,
   "metadata": {},
   "outputs": [],
   "source": [
    "\n",
    "print(customers.info())"
   ]
  },
  {
   "cell_type": "code",
   "execution_count": null,
   "metadata": {},
   "outputs": [],
   "source": [
    "print(orders[\"order_status\"].value_counts())\n"
   ]
  },
  {
   "cell_type": "code",
   "execution_count": null,
   "metadata": {},
   "outputs": [],
   "source": [
    "# ------------------------------\n",
    "# 3. Limpieza y Preparación de Datos\n",
    "# ------------------------------\n",
    "\n",
    "# Eliminar duplicados si los hay\n",
    "customers.drop_duplicates(inplace=True)"
   ]
  },
  {
   "cell_type": "code",
   "execution_count": null,
   "metadata": {},
   "outputs": [],
   "source": [
    "# Verificar valores nulos\n",
    "df_nulls = customers.isnull().sum()\n",
    "print(\"\\nValores nulos por columna:\\n\", df_nulls)"
   ]
  },
  {
   "cell_type": "code",
   "execution_count": null,
   "metadata": {},
   "outputs": [],
   "source": [
    "# ------------------------------\n",
    "# 4. Validaciones Avanzadas\n",
    "# ------------------------------\n",
    "\n",
    "# Validar correos electrónicos\n",
    "import re\n",
    "customers[\"email_valido\"] = customers[\"customer_email\"].apply(lambda x: bool(re.match(r\"[^@]+@[^@]+\\.[^@]+\", str(x))))\n",
    "\n",
    "# Validar que precios de productos sean positivos\n",
    "productos_invalidos = products[products[\"product_price\"] <= 0]\n",
    "print(\"\\nProductos con precios inválidos:\\n\", productos_invalidos)\n",
    "\n",
    "# Validar que no haya IDs duplicados en claves primarias\n",
    "assert customers[\"customer_id\"].is_unique, \"Error: IDs duplicados en customer_id\"\n",
    "assert products[\"product_id\"].is_unique, \"Error: IDs duplicados en product_id\"\n",
    "\n",
    "# Validar relaciones entre tablas (por ejemplo, productos referenciados en order_items deben existir)\n",
    "productos_referenciados = order_items[\"order_item_product_id\"].isin(products[\"product_id\"])\n",
    "assert productos_referenciados.all(), \"Error: Hay productos en order_items que no existen en products\"\n"
   ]
  },
  {
   "cell_type": "code",
   "execution_count": null,
   "metadata": {},
   "outputs": [],
   "source": [
    "# ------------------------------\n",
    "# 5. Enriquecimiento de Datos (Joins)\n",
    "# ------------------------------\n",
    "\n",
    "# Unir productos con sus categorías y departamentos\n",
    "products_full = products.merge(categories, left_on=\"product_category_id\", right_on=\"category_id\")\n",
    "products_full = products_full.merge(departments, left_on=\"category_department_id\", right_on=\"department_id\")\n"
   ]
  },
  {
   "cell_type": "code",
   "execution_count": null,
   "metadata": {},
   "outputs": [],
   "source": [
    "\n",
    "# Unir ordenes con clientes\n",
    "orders_customers = orders.merge(customers, left_on=\"order_customer_id\", right_on=\"customer_id\")"
   ]
  },
  {
   "cell_type": "code",
   "execution_count": null,
   "metadata": {},
   "outputs": [],
   "source": [
    "\n",
    "# Unir order_items con productos\n",
    "order_details = order_items.merge(products, left_on=\"order_item_product_id\", right_on=\"product_id\")"
   ]
  },
  {
   "cell_type": "code",
   "execution_count": null,
   "metadata": {},
   "outputs": [],
   "source": [
    "# ------------------------------\n",
    "# 6. Agregaciones y Análisis\n",
    "# ------------------------------\n",
    "\n",
    "# Total de ingresos por producto\n",
    "ventas_por_producto = order_details.groupby(\"product_name\")[\"order_item_subtotal\"].sum().reset_index()\n",
    "ventas_por_producto = ventas_por_producto.sort_values(by=\"order_item_subtotal\", ascending=False)\n"
   ]
  },
  {
   "cell_type": "code",
   "execution_count": null,
   "metadata": {},
   "outputs": [],
   "source": [
    "# Total de ventas por departamento\n",
    "order_details_full = order_details.merge(products_full, on=\"product_id\")\n",
    "ventas_por_departamento = order_details_full.groupby(\"department_name\")[\"order_item_subtotal\"].sum().reset_index()\n",
    "ventas_por_departamento = ventas_por_departamento.sort_values(by=\"order_item_subtotal\", ascending=False)\n"
   ]
  },
  {
   "cell_type": "code",
   "execution_count": null,
   "metadata": {},
   "outputs": [],
   "source": [
    "# ------------------------------\n",
    "# 7. Creación de Funciones Personalizadas\n",
    "# ------------------------------\n",
    "\n",
    "def clasificar_estado_pedido(estado):\n",
    "    if estado in [\"CLOSED\", \"COMPLETE\"]:\n",
    "        return \"Finalizado\"\n",
    "    elif estado in [\"PENDING\", \"PROCESSING\"]:\n",
    "        return \"En Proceso\"\n",
    "    else:\n",
    "        return \"Otro\"\n",
    "\n",
    "orders_customers[\"estado_clasificado\"] = orders_customers[\"order_status\"].apply(clasificar_estado_pedido)\n"
   ]
  },
  {
   "cell_type": "code",
   "execution_count": null,
   "metadata": {},
   "outputs": [],
   "source": [
    "# ------------------------------\n",
    "# 8. Exportación de Resultados\n",
    "# ------------------------------\n",
    "\n",
    "ventas_por_producto.to_csv(f\"{file_path}/csv/ventas_por_producto.csv\", index=False)\n",
    "ventas_por_departamento.to_json(f\"{file_path}/json/ventas_por_departamento.json\", orient=\"records\", lines=True)\n"
   ]
  },
  {
   "cell_type": "code",
   "execution_count": null,
   "metadata": {},
   "outputs": [],
   "source": [
    "# ------------------------------\n",
    "# 9. Buenas Prácticas Finales\n",
    "# ------------------------------\n",
    "# - Uso de nombres descriptivos para las variables\n",
    "# - Uso de funciones para tareas repetitivas\n",
    "# - Documentar el código con comentarios\n",
    "# - Separar la carga, transformación y exportación"
   ]
  }
 ],
 "metadata": {
  "kernelspec": {
   "display_name": "Python 3",
   "language": "python",
   "name": "python3"
  },
  "language_info": {
   "codemirror_mode": {
    "name": "ipython",
    "version": 3
   },
   "file_extension": ".py",
   "mimetype": "text/x-python",
   "name": "python",
   "nbconvert_exporter": "python",
   "pygments_lexer": "ipython3",
   "version": "3.9.2"
  },
  "orig_nbformat": 4
 },
 "nbformat": 4,
 "nbformat_minor": 2
}
