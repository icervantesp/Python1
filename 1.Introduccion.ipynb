{
 "cells": [
  {
   "attachments": {},
   "cell_type": "markdown",
   "id": "8ac3a846",
   "metadata": {},
   "source": [
    "<a id= \"0\"></a> <br>\n",
    "## Introducción: Python para Ingeniería de Datos\n",
    "\n",
    "Python se ha consolidado como uno de los lenguajes de programación más importantes y utilizados en el ámbito de la ingeniería de datos. Su simplicidad, versatilidad y amplio ecosistema lo convierten en una herramienta fundamental para la construcción, automatización y mantenimiento de pipelines de datos a gran escala.\n",
    "\n",
    "### ¿Qué es Python?\n",
    "\n",
    "Python es un lenguaje de programación de alto nivel, interpretado, de propósito general y con una sintaxis clara y legible. Fue creado con el objetivo de ser fácil de aprender y usar, lo que lo ha convertido en una elección preferida tanto por principiantes como por expertos en ciencia e ingeniería de datos.\n",
    "\n",
    "### Características Clave de Python en Ingeniería de Datos\n",
    "- Sintaxis simple y clara: facilita el desarrollo rápido y el mantenimiento del código.\n",
    "- Gran ecosistema de librerías: herramientas como pandas, numpy, sqlalchemy, pyodbc, requests, airflow, y pyspark son ampliamente usadas en pipelines de datos.\n",
    "- Alta integración con otras tecnologías: Python se conecta fácilmente con bases de datos, APIs, servicios cloud y sistemas distribuidos como Hadoop o Spark.\n",
    "- Multiplataforma: funciona en Windows, macOS, Linux y entornos de nube como Azure, AWS y GCP.\n",
    "- Comunidad activa y en crecimiento: lo que garantiza soporte continuo, nuevos paquetes y documentación abundante.\n",
    "\n",
    "### Ventajas sobre Otros Lenguajes\n",
    "- Facilidad de aprendizaje: más accesible que lenguajes como Java o Scala, sin sacrificar potencia.\n",
    "- Modularidad: permite desarrollar desde scripts pequeños hasta soluciones complejas y escalables.\n",
    "- Amplio soporte para análisis y ciencia de datos: ideal para trabajar en conjunto con analistas o científicos de datos.\n",
    "- Compatibilidad con tecnologías modernas: frameworks de orquestación (Airflow), ETL (Luigi), APIs REST, y motores de big data como PySpark.\n",
    "\n",
    "### Casos de Uso en Ingeniería de Datos\n",
    "- Extracción de datos (ETL/ELT): conexión a múltiples fuentes como SQL, APIs REST, archivos planos, etc.\n",
    "- Limpieza y transformación de datos: uso intensivo de pandas, numpy, re para preparar datos.\n",
    "- Carga de datos: automatización de cargas hacia data warehouses, data lakes o bases de datos relacionales.\n",
    "- Orquestación de flujos: gestión de pipelines complejos con herramientas como Apache Airflow.\n",
    "- Procesamiento distribuido: integración con Apache Spark mediante PySpark para manejar grandes volúmenes de datos.\n",
    "- Automatización de tareas: generación de reportes, envío de alertas, ejecución de scripts periódicos."
   ]
  },
  {
   "cell_type": "markdown",
   "id": "ad7a4757",
   "metadata": {},
   "source": [
    "<a id= \"1\"></a> <br>\n",
    "### Indentación\n",
    "Python utiliza la indentación para delimitar la estructura permitiendo establecer bloques de código. No existen comandos para finalizar las líneas ni llaves con las que delimitar el código. Los únicos delimitadores existentes son los dos puntos ( : ) y la indentación del código."
   ]
  },
  {
   "cell_type": "code",
   "execution_count": null,
   "id": "39036d99",
   "metadata": {},
   "outputs": [],
   "source": [
    "v1 = 5\n",
    "\n",
    "if v1 == '6':\n",
    "    print('Es Verdadero')\n",
    "else:\n",
    "    print('Es falso')\n",
    "\n",
    "print('¡FIN!')"
   ]
  },
  {
   "cell_type": "code",
   "execution_count": null,
   "id": "029ce420",
   "metadata": {},
   "outputs": [],
   "source": [
    "# Incorrecto !\n",
    "v1 = 5\n",
    "\n",
    "if v1 == '6':\n",
    "print('Es Verdadero')\n",
    "else:\n",
    "    print('Es falso')\n",
    "\n",
    "print('¡FIN!')"
   ]
  },
  {
   "cell_type": "markdown",
   "id": "e75472e5",
   "metadata": {},
   "source": [
    "<a id= \"2\"></a> <br>\n",
    "### Comentarios\n",
    "Los comentarios se pueden usar para explicar el codigo de python de manera mas legible\n"
   ]
  },
  {
   "cell_type": "code",
   "execution_count": null,
   "id": "616221d4",
   "metadata": {},
   "outputs": [],
   "source": [
    "\n",
    "# Esto es un momentario\n",
    "\n",
    "v1 = 5\n",
    "\n",
    "if v1 == '6':\n",
    "    print('Es Verdadero')\n",
    "else:\n",
    "    print('Es falso')\n",
    "\n",
    "print('¡FIN!')"
   ]
  },
  {
   "cell_type": "markdown",
   "id": "dd828fe9",
   "metadata": {},
   "source": [
    "<a id= \"3\"></a> <br>\n",
    "### Variables\n",
    "En python una variable se crea en el momento en que le asigna un valor por primera vez."
   ]
  },
  {
   "cell_type": "code",
   "execution_count": null,
   "id": "e8882152",
   "metadata": {},
   "outputs": [],
   "source": [
    "a = 5 # Int\n",
    "b = \"HazloConDatos\" # Str\n",
    "print(a)\n",
    "print(b)"
   ]
  },
  {
   "cell_type": "code",
   "execution_count": null,
   "id": "bf9f621d",
   "metadata": {},
   "outputs": [],
   "source": [
    "a = str(4)    # '4'\n",
    "b = int(5)    # 5\n",
    "c = float(2)  # 2.0"
   ]
  },
  {
   "cell_type": "code",
   "execution_count": null,
   "id": "e3e4c9bb",
   "metadata": {},
   "outputs": [],
   "source": [
    "print(type(a))\n",
    "print(type(b))\n",
    "print(type(c))"
   ]
  },
  {
   "cell_type": "code",
   "execution_count": null,
   "id": "bad41b14",
   "metadata": {},
   "outputs": [],
   "source": [
    "x, y, z = \"Orange\", \"Banana\", \"Cherry\""
   ]
  },
  {
   "attachments": {},
   "cell_type": "markdown",
   "id": "da544b2a",
   "metadata": {},
   "source": [
    "<a id= \"4\"></a> <br>\n",
    "## Tipos de datos"
   ]
  },
  {
   "cell_type": "markdown",
   "id": "ff8ca210",
   "metadata": {},
   "source": [
    "#### String Data Type\n",
    "Las cadenas se identifican como un conjunto contiguo de caracteres representados entre comillas. Python permite pares de comillas simples o dobles. Las cadenas son un tipo de datos de secuencia inmutable, es decir, cada vez que se realiza un cambio en una cadena, se crea un objeto de cadena completamente nuevo."
   ]
  },
  {
   "cell_type": "code",
   "execution_count": null,
   "id": "7ef4f422",
   "metadata": {},
   "outputs": [],
   "source": [
    "a_str = 'Hello World'\n",
    "print(a_str) #la salida sera. Hello World\n",
    "print(a_str[0]) #la salida sera. H\n",
    "print(a_str[0:5]) #la salida sera. Hello"
   ]
  },
  {
   "cell_type": "markdown",
   "id": "32d51960",
   "metadata": {},
   "source": [
    "#### Numbers Data Type"
   ]
  },
  {
   "cell_type": "code",
   "execution_count": null,
   "id": "2b0af72c",
   "metadata": {},
   "outputs": [],
   "source": [
    "int_num = 10 # Valor entero\n",
    "float_num = 10.2 # Valor flotante\n",
    "complex_num = 3.14j # Valor Complejo"
   ]
  },
  {
   "cell_type": "markdown",
   "id": "d047ca8d",
   "metadata": {},
   "source": [
    "### Lists Data Type\n",
    "Las listas de Python son uno de los tipos de datos más versátiles que nos permiten trabajar con múltiples elementos a la vez.\n",
    "\n",
    "En Python, se crea una lista colocando elementos entre corchetes [ ], separados por comas."
   ]
  },
  {
   "cell_type": "code",
   "execution_count": null,
   "id": "618b5e1a",
   "metadata": {},
   "outputs": [],
   "source": [
    "# Lista de enteros\n",
    "my_list = [3, 5, 2]\n",
    "\n",
    "# Lista vacia\n",
    "my_list = []\n",
    "\n",
    "# Lista mixta\n",
    "my_list = [3, \"Hello\", 44.4]\n",
    "\n",
    "# Lista anidada\n",
    "my_list = [\"apple\", [3, 7, 8], ['x']]"
   ]
  },
  {
   "cell_type": "markdown",
   "id": "38e2c3be",
   "metadata": {},
   "source": [
    "Podemos usar el operador de índice [ ] para acceder a un elemento en una lista. En Python, los índices comienzan en 0. Entonces, una lista que tiene 5 elementos tendrá un índice de 0 a 4."
   ]
  },
  {
   "cell_type": "code",
   "execution_count": null,
   "id": "5dd7e741",
   "metadata": {},
   "outputs": [],
   "source": [
    "my_list = ['x', 'l', 'm', 'a']\n",
    "\n",
    "# Primer elemento\n",
    "print(my_list[0])  \n",
    "\n",
    "# Tercer elemento\n",
    "print(my_list[2])  \n",
    "\n",
    "# Lista anidada\n",
    "n_list = [\"Happy\", [6, 2, 1, 8]]\n",
    "\n",
    "# Indices anidados\n",
    "print(n_list[0][1])\n",
    "\n",
    "print(n_list[1][3])\n"
   ]
  },
  {
   "cell_type": "code",
   "execution_count": null,
   "id": "a9333a0b",
   "metadata": {},
   "outputs": [],
   "source": [
    "# Incorrecto!\n",
    "print(my_list[4.0])"
   ]
  },
  {
   "cell_type": "code",
   "execution_count": null,
   "id": "6a4e430b",
   "metadata": {},
   "outputs": [],
   "source": [
    "\n",
    "# -1 ultimo elemento\n",
    "\n",
    "print(my_list[-1])\n",
    "\n",
    "print(my_list[-4])"
   ]
  },
  {
   "cell_type": "code",
   "execution_count": null,
   "id": "baf82c85",
   "metadata": {},
   "outputs": [],
   "source": [
    "# Acceso a un rango de elementos con el operador :\n",
    "\n",
    "my_list = ['a','b','c','d','e','f','g','h','i']\n",
    "\n",
    "# elementos desde el indice 2 al 4\n",
    "print(my_list[2:5])\n",
    "\n",
    "# elementos desde el indice 5 hasta el final\n",
    "print(my_list[5:])\n",
    "\n",
    "# elementos de inicio a fin\n",
    "print(my_list[:])"
   ]
  },
  {
   "cell_type": "code",
   "execution_count": null,
   "id": "3bdfa77b",
   "metadata": {},
   "outputs": [],
   "source": [
    "# Correccion de valores de una lista\n",
    "my_list = [2, 4, 6, 8]\n",
    "\n",
    "# Cambiar Primer elemento  \n",
    "my_list[0] = 1            \n",
    "\n",
    "print(my_list)\n",
    "\n",
    "# Cambiar rango elementos\n",
    "my_list[1:4] = [3, 5, 7]  \n",
    "\n",
    "print(my_list)  "
   ]
  },
  {
   "cell_type": "code",
   "execution_count": null,
   "id": "80ad53c3",
   "metadata": {},
   "outputs": [],
   "source": [
    "# Usar append y extend\n",
    "my_list = [1, 3, 5]\n",
    "\n",
    "my_list.append(7)\n",
    "\n",
    "print(my_list)\n",
    "\n",
    "my_list.extend([9, 11, 13])\n",
    "\n",
    "print(my_list)"
   ]
  },
  {
   "cell_type": "code",
   "execution_count": null,
   "id": "0d414f4e",
   "metadata": {},
   "outputs": [],
   "source": [
    "# Iterar una lista\n",
    "for fruit in ['apple','banana','mango']:\n",
    "    print(\"I like\",fruit)"
   ]
  },
  {
   "cell_type": "markdown",
   "id": "1fae3536",
   "metadata": {},
   "source": [
    "#### Tuple Data Type\n",
    "Una tupla en Python es similar a una lista. La diferencia entre los dos es que no podemos cambiar los elementos de una tupla una vez asignada, mientras que pen una lista si lo podemos hacer."
   ]
  },
  {
   "cell_type": "code",
   "execution_count": null,
   "id": "b2d76d22",
   "metadata": {},
   "outputs": [],
   "source": [
    "# Diferentes tipos de tuplas\n",
    "\n",
    "# Tupla Vacia\n",
    "my_tuple = ()\n",
    "print(my_tuple)\n",
    "\n",
    "# Tupla de enteros\n",
    "my_tuple = (3, 2, 5)\n",
    "print(my_tuple)\n",
    "\n",
    "# Tupla mixta\n",
    "my_tuple = (1, \"Hello\", 5.6)\n",
    "print(my_tuple)\n",
    "\n",
    "# Tupla anidada\n",
    "my_tuple = (\"apple\", [2, 5, 7], (5, 8, 1))\n",
    "print(my_tuple)"
   ]
  },
  {
   "cell_type": "code",
   "execution_count": null,
   "id": "125ad146",
   "metadata": {},
   "outputs": [],
   "source": [
    "my_tuple = (\"hello\")\n",
    "print(type(my_tuple))  # <class 'str'>\n",
    "\n",
    "# Tupla con un elemento\n",
    "my_tuple = (\"hello\",)\n",
    "print(type(my_tuple))  # <class 'tuple'>\n",
    "\n",
    "# Parentesis es opcional\n",
    "my_tuple = \"hello\",\n",
    "print(type(my_tuple))  # <class 'tuple'>"
   ]
  },
  {
   "cell_type": "code",
   "execution_count": null,
   "id": "8ffb6d13",
   "metadata": {},
   "outputs": [],
   "source": [
    "my_tuple = ('p','e','r','m','i','t')\n",
    "\n",
    "print(my_tuple[0])   # 'p' \n",
    "print(my_tuple[5])   # 't'"
   ]
  },
  {
   "cell_type": "code",
   "execution_count": null,
   "id": "41b9d501",
   "metadata": {},
   "outputs": [],
   "source": [
    "n_tuple = (\"mouse\", [8, 4, 6], (1, 2, 3))\n",
    "\n",
    "print(n_tuple[0][3])       # 's'\n",
    "print(n_tuple[1][1])       # 4"
   ]
  },
  {
   "cell_type": "code",
   "execution_count": null,
   "id": "63e9ffa7",
   "metadata": {},
   "outputs": [],
   "source": [
    "print(my_tuple[1:4])"
   ]
  },
  {
   "cell_type": "code",
   "execution_count": null,
   "id": "a7b812f9",
   "metadata": {},
   "outputs": [],
   "source": [
    "# Iteracion de una Tuple\n",
    "for name in ('John', 'Kate'):\n",
    "    print(\"Hello\", name)"
   ]
  },
  {
   "cell_type": "markdown",
   "id": "2244230e",
   "metadata": {},
   "source": [
    "#### Dictionary Data Type\n",
    "El diccionario de Python es una colección desordenada de elementos. Cada elemento de un diccionario tiene un par clave/valor.\n",
    "\n",
    "Los diccionarios están optimizados para recuperar valores cuando se conoce la clave.\n",
    "\n",
    "Crear un diccionario es tan simple como colocar elementos entre llaves { } separados por comas.\n",
    "\n",
    "Un elemento tiene una clave y un valor correspondiente que se expresa como un par (clave: valor).\n",
    "\n",
    "Si bien los valores pueden ser de cualquier tipo de datos y pueden repetirse, las claves deben ser de tipo inmutable (cadena, número o tupla con elementos inmutables) y deben ser únicas.\n"
   ]
  },
  {
   "cell_type": "code",
   "execution_count": null,
   "id": "51de5126",
   "metadata": {},
   "outputs": [],
   "source": [
    "# Diccionario vacio\n",
    "my_dict = {}\n",
    "\n",
    "# Dictionario con keys enteros\n",
    "my_dict = {1: 'apple', 2: 'ball'}\n",
    "\n",
    "# Dicionario con keys mixtas\n",
    "my_dict = {'name': 'John', 1: [2, 4, 3]}\n",
    "\n",
    "# Uso de dict()\n",
    "my_dict = dict({1:'apple', 2:'ball'})\n"
   ]
  },
  {
   "cell_type": "code",
   "execution_count": null,
   "id": "664ab3f9",
   "metadata": {},
   "outputs": [],
   "source": [
    "\n",
    "my_dict = {'name': 'Jack', 'age': 26}\n",
    "\n",
    "# Output: Jack\n",
    "print(my_dict['name'])\n",
    "\n",
    "# Output: 26\n",
    "print(my_dict.get('age'))\n"
   ]
  },
  {
   "cell_type": "code",
   "execution_count": null,
   "id": "75c9ba35",
   "metadata": {},
   "outputs": [],
   "source": [
    "print(my_dict.get('address'))"
   ]
  },
  {
   "cell_type": "code",
   "execution_count": null,
   "id": "287e48b0",
   "metadata": {},
   "outputs": [],
   "source": [
    "\n",
    "print(my_dict['address'])"
   ]
  },
  {
   "cell_type": "code",
   "execution_count": null,
   "id": "2c4eaced",
   "metadata": {},
   "outputs": [],
   "source": [
    "# Cambiar y agregar elementos \n",
    "my_dict = {'name': 'Jack', 'age': 26}\n",
    "\n",
    "# Actualizando elemento\n",
    "my_dict['age'] = 27\n",
    "\n",
    "#Output: {'age': 27, 'name': 'Jack'}\n",
    "print(my_dict)\n",
    "\n",
    "# agregando elementos\n",
    "my_dict['address'] = 'Downtown'\n",
    "\n",
    "# Output: {'address': 'Downtown', 'age': 27, 'name': 'Jack'}\n",
    "print(my_dict)"
   ]
  },
  {
   "cell_type": "code",
   "execution_count": null,
   "id": "3ec9ee70",
   "metadata": {},
   "outputs": [],
   "source": [
    "# Iteracion de un diccionario\n",
    "\n",
    "marks = {}.fromkeys(['Math', 'English', 'Science'], 0)\n",
    "\n",
    "# Output: {'English': 0, 'Math': 0, 'Science': 0}\n",
    "print(marks)\n",
    "\n",
    "for item in marks.items():\n",
    "    print(item)\n",
    "\n",
    "# Output: ['English', 'Math', 'Science']\n",
    "print(list(sorted(marks.keys())))"
   ]
  },
  {
   "cell_type": "markdown",
   "id": "9649c7a5",
   "metadata": {},
   "source": [
    "<a id= \"5\"></a> <br>\n",
    "### Control de flujo\n",
    "\n"
   ]
  },
  {
   "attachments": {},
   "cell_type": "markdown",
   "id": "d9faf703",
   "metadata": {},
   "source": [
    "### IF\n",
    "La instrucción if es una estructura de control condicional que permite ejecutar un bloque de código solo si una condición especificada es verdadera. Es una de las formas fundamentales de controlar el flujo de ejecución en un programa.\n"
   ]
  },
  {
   "cell_type": "code",
   "execution_count": null,
   "id": "57aa015a",
   "metadata": {},
   "outputs": [],
   "source": [
    "#if...else\n",
    "num = 3\n",
    "if num > 0:\n",
    "    print(num, \"is a positive number.\")\n",
    "print(\"This is always printed.\")\n",
    "\n",
    "num = -1\n",
    "if num > 0:\n",
    "    print(num, \"is a positive number.\")\n",
    "print(\"This is also always printed.\")"
   ]
  },
  {
   "cell_type": "code",
   "execution_count": null,
   "id": "bac5b7f7",
   "metadata": {},
   "outputs": [],
   "source": [
    "num = float(input(\"Enter a number: \"))\n",
    "if num >= 0:\n",
    "    if num == 0:\n",
    "        print(\"Zero\")\n",
    "    else:\n",
    "        print(\"Positive number\")\n",
    "else:\n",
    "    print(\"Negative number\")"
   ]
  },
  {
   "attachments": {},
   "cell_type": "markdown",
   "id": "4b91ed1a",
   "metadata": {},
   "source": [
    "### For\n",
    "\n",
    "La instrucción for en Python es una estructura de control de flujo que permite iterar de manera secuencial sobre los elementos de un objeto iterable (como una lista, tupla, diccionario, conjunto o cadena de texto), ejecutando un bloque de código por cada elemento.\n",
    "\n",
    "##### Cuándo usar for:\n",
    "- Para recorrer listas, nombres, objetos, números.\n",
    "- Cuando ya sabes cuántas veces quieres repetir algo.\n",
    "- Por ejemplo: revisar todos los elementos de una lista o repetir algo 10 veces."
   ]
  },
  {
   "cell_type": "code",
   "execution_count": null,
   "id": "0e637c2a",
   "metadata": {},
   "outputs": [],
   "source": [
    "# for\n",
    "numbers = [6, 5, 3, 8, 4, 2, 5, 4, 11]\n",
    "\n",
    "# variable sum\n",
    "sum = 0\n",
    "\n",
    "# iterate the list\n",
    "for val in numbers:\n",
    "    sum = sum+val\n",
    "\n",
    "print(\"The sum is\", sum)"
   ]
  },
  {
   "attachments": {},
   "cell_type": "markdown",
   "id": "73d764a1",
   "metadata": {},
   "source": [
    "### While\n",
    "La instrucción while en Python es una estructura de control de flujo que permite ejecutar un bloque de código mientras una condición lógica sea verdadera. El bucle se repite indefinidamente hasta que la condición evaluada sea falsa.\n",
    "\n",
    "#### Cuándo usar while:\n",
    "- Cuando no sabes cuántas veces va a repetirse la acción.\n",
    "- Cuando depende de una condición que puede cambiar.\n",
    "- Por ejemplo: repetir hasta que un número llegue a cierto valor."
   ]
  },
  {
   "cell_type": "code",
   "execution_count": null,
   "id": "5e226946",
   "metadata": {},
   "outputs": [],
   "source": [
    "# While\n",
    "\n",
    "n = 10\n",
    "\n",
    "# inicializa el contador y la variable suma\n",
    "sum = 0\n",
    "i = 1\n",
    "\n",
    "while i <= n:\n",
    "    sum = sum + i\n",
    "    i = i+1    # update counter\n",
    "\n",
    "# print sum\n",
    "print(\"The sum is\", sum)"
   ]
  },
  {
   "cell_type": "code",
   "execution_count": null,
   "id": "3f052bb3",
   "metadata": {},
   "outputs": [],
   "source": [
    "#break\n",
    "for val in \"string\":\n",
    "    if val == \"i\":\n",
    "        break\n",
    "    print(val)\n",
    "\n",
    "print(\"The end\")"
   ]
  },
  {
   "cell_type": "code",
   "execution_count": null,
   "id": "c13319bc",
   "metadata": {},
   "outputs": [],
   "source": [
    "# pass\n",
    "sequence = {'p', 'a', 's', 's'}\n",
    "for val in sequence:\n",
    "    pass\n",
    "    print(val)\n"
   ]
  },
  {
   "cell_type": "markdown",
   "id": "a2dd3e34",
   "metadata": {},
   "source": [
    "<a id= \"7\"></a> <br>\n",
    "### Funciones\n",
    "Las funciones en Python proporcionan código organizado, reutilizable y modular para realizar un conjunto de acciones específicas. Las funciones simplifican el proceso de codificación, evitan la lógica redundante y facilitan el seguimiento del código."
   ]
  },
  {
   "cell_type": "code",
   "execution_count": null,
   "id": "9deed19f",
   "metadata": {},
   "outputs": [],
   "source": [
    "def f(x):\n",
    "    return 2*x\n",
    "y = f(3)\n",
    "print(y) # 6"
   ]
  },
  {
   "cell_type": "code",
   "execution_count": null,
   "id": "bbce38f8",
   "metadata": {},
   "outputs": [],
   "source": [
    "def say_hello(name):\n",
    "    print(\"Hello\", name)\n",
    "    \n",
    "say_hello(\"Juan\")"
   ]
  },
  {
   "cell_type": "code",
   "execution_count": null,
   "id": "4623dc5f",
   "metadata": {},
   "outputs": [],
   "source": [
    "def greeting():\n",
    "    return \"Hello\"\n",
    "\n",
    "print(greeting())"
   ]
  },
  {
   "cell_type": "code",
   "execution_count": null,
   "id": "c91cfe95",
   "metadata": {},
   "outputs": [],
   "source": [
    "greet_me = lambda: \"Hello\"\n",
    "print(greet_me())"
   ]
  },
  {
   "cell_type": "code",
   "execution_count": null,
   "id": "7a2e861c",
   "metadata": {},
   "outputs": [],
   "source": [
    "strip_and_upper_case = lambda s: s.strip().upper()\n",
    "strip_and_upper_case(\" Hello \")\n"
   ]
  },
  {
   "cell_type": "code",
   "execution_count": null,
   "id": "524adb44",
   "metadata": {},
   "outputs": [],
   "source": [
    "import pandas as pd\n",
    "\n",
    "# Crear un DataFrame\n",
    "df = pd.DataFrame({\n",
    "    'nombre': ['ana', 'Luis', 'CARLOS', 'maria']\n",
    "})\n",
    "\n",
    "# Aplicar transformación a mayúsculas\n",
    "df['nombre_mayuscula'] = df['nombre'].apply(lambda x: x.upper())\n",
    "\n",
    "print(df)"
   ]
  },
  {
   "cell_type": "code",
   "execution_count": null,
   "id": "89041df2",
   "metadata": {},
   "outputs": [],
   "source": [
    "import pandas as pd\n",
    "\n",
    "# Crear un DataFrame\n",
    "df = pd.DataFrame({\n",
    "    'precio_unitario': [10, 20, 5],\n",
    "    'cantidad': [3, 2, 7]\n",
    "})\n",
    "\n",
    "# Usar apply por fila (axis=1)\n",
    "df['total'] = df.apply(lambda row: row['precio_unitario'] * row['cantidad'], axis=1)\n",
    "\n",
    "print(df)"
   ]
  }
 ],
 "metadata": {
  "kernelspec": {
   "display_name": "Python 3 (ipykernel)",
   "language": "python",
   "name": "python3"
  },
  "language_info": {
   "codemirror_mode": {
    "name": "ipython",
    "version": 3
   },
   "file_extension": ".py",
   "mimetype": "text/x-python",
   "name": "python",
   "nbconvert_exporter": "python",
   "pygments_lexer": "ipython3",
   "version": "3.9.18"
  },
  "vscode": {
   "interpreter": {
    "hash": "5a4aefe5433830292dd56e41ad848b6fae049c2ddf8b1ae26c5dfa2d885cad7a"
   }
  }
 },
 "nbformat": 4,
 "nbformat_minor": 5
}
